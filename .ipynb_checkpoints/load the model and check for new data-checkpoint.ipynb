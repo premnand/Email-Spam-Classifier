{
 "cells": [
  {
   "cell_type": "code",
   "execution_count": 1,
   "id": "14d982e2-7e09-4bf9-a654-45ccde7b3a68",
   "metadata": {},
   "outputs": [
    {
     "name": "stdout",
     "output_type": "stream",
     "text": [
      "Email: You are selected! Click to claim your reward.\n",
      "Prediction: Spam\n",
      "\n",
      "Email: Please send me the updated report by today.\n",
      "Prediction: Ham\n",
      "\n"
     ]
    }
   ],
   "source": [
    "import pickle\n",
    "\n",
    "# Step 1: Load the saved model and vectorizer\n",
    "with open('logistic_regression_spam_model.pkl', 'rb') as model_file:\n",
    "    loaded_model = pickle.load(model_file)\n",
    "\n",
    "with open('tfidf_vectorizer.pkl', 'rb') as vectorizer_file:\n",
    "    loaded_vectorizer = pickle.load(vectorizer_file)\n",
    "\n",
    "# Step 2: Prepare new data (replace with actual new email data)\n",
    "new_emails = [\n",
    "    \"You are selected! Click to claim your reward.\",  # Likely spam\n",
    "    \"Please send me the updated report by today.\",    # Likely ham\n",
    "]\n",
    "\n",
    "# Step 3: Preprocess the new data using the loaded vectorizer\n",
    "new_emails_tfidf = loaded_vectorizer.transform(new_emails)\n",
    "\n",
    "# Step 4: Make predictions using the loaded model\n",
    "predictions = loaded_model.predict(new_emails_tfidf)\n",
    "\n",
    "# Step 5: Output predictions\n",
    "for i, email in enumerate(new_emails):\n",
    "    print(f\"Email: {email}\")\n",
    "    print(f\"Prediction: {'Spam' if predictions[i] == 1 else 'Ham'}\\n\")"
   ]
  },
  {
   "cell_type": "code",
   "execution_count": null,
   "id": "42ceddc9-d030-4ae5-be87-2fb7dc49b8e5",
   "metadata": {},
   "outputs": [],
   "source": []
  }
 ],
 "metadata": {
  "kernelspec": {
   "display_name": "Python 3 (ipykernel)",
   "language": "python",
   "name": "python3"
  },
  "language_info": {
   "codemirror_mode": {
    "name": "ipython",
    "version": 3
   },
   "file_extension": ".py",
   "mimetype": "text/x-python",
   "name": "python",
   "nbconvert_exporter": "python",
   "pygments_lexer": "ipython3",
   "version": "3.12.3"
  }
 },
 "nbformat": 4,
 "nbformat_minor": 5
}
